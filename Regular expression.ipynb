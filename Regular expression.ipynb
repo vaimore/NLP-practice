{
 "cells": [
  {
   "cell_type": "code",
   "execution_count": 1,
   "id": "624ac678-1b97-45a3-99df-90e82cb2d1e9",
   "metadata": {},
   "outputs": [],
   "source": [
    "import re"
   ]
  },
  {
   "cell_type": "code",
   "execution_count": 2,
   "id": "847ba80b-fb69-44b2-8007-e8f3cdd340c5",
   "metadata": {},
   "outputs": [],
   "source": [
    "result_search = re.search(\"pattern\", r\"string to contain pattern\")"
   ]
  },
  {
   "cell_type": "code",
   "execution_count": 3,
   "id": "255c4612-f82b-4f8b-a8b7-6a5087075f7a",
   "metadata": {},
   "outputs": [
    {
     "data": {
      "text/plain": [
       "<re.Match object; span=(18, 25), match='pattern'>"
      ]
     },
     "execution_count": 3,
     "metadata": {},
     "output_type": "execute_result"
    }
   ],
   "source": [
    "result_search"
   ]
  },
  {
   "cell_type": "code",
   "execution_count": 4,
   "id": "59292e0f-df7e-4569-8365-9d2594e92d29",
   "metadata": {},
   "outputs": [],
   "source": [
    "result_search_1 = re.search(\"on\", r\"Recommender systems are everywhere — from e-commerce to online advertisement.\")"
   ]
  },
  {
   "cell_type": "code",
   "execution_count": 5,
   "id": "94aea06a-b3d2-4f45-84ed-6f0345a7e4b7",
   "metadata": {},
   "outputs": [
    {
     "name": "stdout",
     "output_type": "stream",
     "text": [
      "<re.Match object; span=(56, 58), match='on'>\n"
     ]
    }
   ],
   "source": [
    "print(result_search_1)"
   ]
  },
  {
   "cell_type": "code",
   "execution_count": null,
   "id": "0c2ee416-0c5a-4c81-9243-9dfe5e5a98be",
   "metadata": {},
   "outputs": [],
   "source": []
  },
  {
   "cell_type": "code",
   "execution_count": 6,
   "id": "e284226c-44e8-462e-ae4f-0ed1c1ad9deb",
   "metadata": {},
   "outputs": [],
   "source": [
    "string = r\"Recommender systems are everywhere — from e-commerce to online advertisement\""
   ]
  },
  {
   "cell_type": "code",
   "execution_count": 7,
   "id": "fe59b5b9-cf5d-4e88-a4b3-fe92facc59d0",
   "metadata": {},
   "outputs": [
    {
     "data": {
      "text/plain": [
       "'Recommender systems are everywhere — from e-commerce to online advertisement'"
      ]
     },
     "execution_count": 7,
     "metadata": {},
     "output_type": "execute_result"
    }
   ],
   "source": [
    "string"
   ]
  },
  {
   "cell_type": "code",
   "execution_count": 8,
   "id": "77197325-127f-48cc-9fb3-a9a6b7e2dcef",
   "metadata": {},
   "outputs": [
    {
     "name": "stdout",
     "output_type": "stream",
     "text": [
      "Recommender systems are afk_everywhere — from e-commerce to online advertisement\n"
     ]
    }
   ],
   "source": [
    "new_string = re.sub(\"everywhere\", \"afk_everywhere\", string)\n",
    "print(new_string)"
   ]
  },
  {
   "cell_type": "code",
   "execution_count": 50,
   "id": "cf0b661e-d172-4e20-a4cf-690d3dbcaadd",
   "metadata": {},
   "outputs": [],
   "source": [
    "recommendation_reviews = [\n",
    "    \"recommendation systems needed are everywhere — from e-commerce to online system\",\n",
    "    \"Online platforms recommend to customers music, movies, articles.\",\n",
    "    \"ased on the history of their preferences. That includes visited links, browsing.\",\n",
    "    \"activity, and other behaviors\",\n",
    "    \"In this project, we create a booked recommendation system\"\n",
    "]"
   ]
  },
  {
   "cell_type": "code",
   "execution_count": 51,
   "id": "122c895f-02f1-448b-bccd-a54d1dc7f8c1",
   "metadata": {},
   "outputs": [
    {
     "data": {
      "text/plain": [
       "['recommendation systems needed are everywhere — from e-commerce to online system',\n",
       " 'Online platforms recommend to customers music, movies, articles.',\n",
       " 'ased on the history of their preferences. That includes visited links, browsing.',\n",
       " 'activity, and other behaviors',\n",
       " 'In this project, we create a booked recommendation system']"
      ]
     },
     "execution_count": 51,
     "metadata": {},
     "output_type": "execute_result"
    }
   ],
   "source": [
    "recommendation_reviews"
   ]
  },
  {
   "cell_type": "code",
   "execution_count": 52,
   "id": "f8bafb52-9e0c-48ce-837a-e38248ab1c34",
   "metadata": {},
   "outputs": [],
   "source": [
    "recommendations = []"
   ]
  },
  {
   "cell_type": "code",
   "execution_count": 53,
   "id": "999bd812-2891-4854-9436-fb89ba1bbdb6",
   "metadata": {},
   "outputs": [],
   "source": [
    "pattern_to_find = r\"recommendation?\""
   ]
  },
  {
   "cell_type": "code",
   "execution_count": 54,
   "id": "0479609d-098c-4725-b741-6f7d7c117c10",
   "metadata": {},
   "outputs": [],
   "source": [
    "for reviews in recommendation_reviews:\n",
    "    if (re.search(pattern_to_find, reviews)):\n",
    "        recommendations.append(reviews)"
   ]
  },
  {
   "cell_type": "code",
   "execution_count": 55,
   "id": "60be85b4-01e1-4acd-af2a-8da2daec2c87",
   "metadata": {},
   "outputs": [
    {
     "name": "stdout",
     "output_type": "stream",
     "text": [
      "['recommendation systems needed are everywhere — from e-commerce to online system', 'In this project, we create a booked recommendation system']\n"
     ]
    }
   ],
   "source": [
    "print(recommendations)"
   ]
  },
  {
   "cell_type": "code",
   "execution_count": 56,
   "id": "f0662dce-0aad-4ecc-8d2b-e65cd41b9d6d",
   "metadata": {},
   "outputs": [],
   "source": [
    "a_reviews = []\n",
    "pattern_to_find_a = r\"^a\"\n",
    "\n",
    "for a in recommendation_reviews:\n",
    "    if (re.search(pattern_to_find_a, a)):\n",
    "        a_reviews.append(a)"
   ]
  },
  {
   "cell_type": "code",
   "execution_count": 57,
   "id": "ddcd361e-7a9e-4cf5-a95c-e0daccbf6b2c",
   "metadata": {},
   "outputs": [
    {
     "name": "stdout",
     "output_type": "stream",
     "text": [
      "['ased on the history of their preferences. That includes visited links, browsing.', 'activity, and other behaviors']\n"
     ]
    }
   ],
   "source": [
    "print(a_reviews)"
   ]
  },
  {
   "cell_type": "code",
   "execution_count": 58,
   "id": "bdf0df56-c218-4816-9288-1dab7d0e40b3",
   "metadata": {},
   "outputs": [],
   "source": [
    "o_reviews = []\n",
    "pattern_to_find_o = r\"^O\"\n",
    "\n",
    "for o in recommendation_reviews:\n",
    "    if (re.search(pattern_to_find_o, o)):\n",
    "        o_reviews.append(o)"
   ]
  },
  {
   "cell_type": "code",
   "execution_count": 59,
   "id": "edbb5764-f81c-40d4-84be-db0bbe4cafb0",
   "metadata": {},
   "outputs": [
    {
     "name": "stdout",
     "output_type": "stream",
     "text": [
      "['Online platforms recommend to customers music, movies, articles.']\n"
     ]
    }
   ],
   "source": [
    "print(o_reviews)"
   ]
  },
  {
   "cell_type": "code",
   "execution_count": null,
   "id": "4aaaffc3-d5ee-4d11-b573-f8af79237431",
   "metadata": {},
   "outputs": [],
   "source": []
  },
  {
   "cell_type": "code",
   "execution_count": 60,
   "id": "843b94c2-9cc4-4cd4-a098-eb946a380434",
   "metadata": {},
   "outputs": [],
   "source": [
    "end_with_m = [ ]\n",
    "pattern_to_find_string_with_end_with_m = r\"m$\"\n",
    "\n",
    "for em in recommendation_reviews:\n",
    "    if(re.search(pattern_to_find_string_with_end_with_m,em)):\n",
    "        end_with_m.append(em)"
   ]
  },
  {
   "cell_type": "code",
   "execution_count": 61,
   "id": "903a59c7-6157-4bca-b2df-04eb8cb6b532",
   "metadata": {},
   "outputs": [
    {
     "name": "stdout",
     "output_type": "stream",
     "text": [
      "['recommendation systems needed are everywhere — from e-commerce to online system', 'In this project, we create a booked recommendation system']\n"
     ]
    }
   ],
   "source": [
    "print(end_with_m)"
   ]
  },
  {
   "cell_type": "code",
   "execution_count": 64,
   "id": "76879059-0f7e-4fab-9188-40285079a06f",
   "metadata": {},
   "outputs": [],
   "source": [
    "book_e_commerce = [ ]\n",
    "pattern_to_find_book_e_commerce_word = r\"(book|need)ed\"\n",
    "\n",
    "for em in recommendation_reviews:\n",
    "    if(re.search(pattern_to_find_book_e_commerce_word,em)):\n",
    "        book_e_commerce.append(em)\n"
   ]
  },
  {
   "cell_type": "code",
   "execution_count": 65,
   "id": "0ac9f14b-73ad-4abe-b41e-87fe728feb9b",
   "metadata": {},
   "outputs": [
    {
     "name": "stdout",
     "output_type": "stream",
     "text": [
      "['recommendation systems needed are everywhere — from e-commerce to online system', 'In this project, we create a booked recommendation system']\n"
     ]
    }
   ],
   "source": [
    "print(book_e_commerce)"
   ]
  },
  {
   "cell_type": "code",
   "execution_count": null,
   "id": "2d4781ac-3f69-496f-bbe1-a7b5be1ea53b",
   "metadata": {},
   "outputs": [],
   "source": []
  },
  {
   "cell_type": "code",
   "execution_count": null,
   "id": "1895078e-3d0f-497e-99dd-5ee6335529e5",
   "metadata": {},
   "outputs": [],
   "source": []
  },
  {
   "cell_type": "code",
   "execution_count": null,
   "id": "a5570aa5-231b-4813-8884-13134986ab2a",
   "metadata": {},
   "outputs": [],
   "source": []
  },
  {
   "cell_type": "code",
   "execution_count": null,
   "id": "a2451665-ba61-4443-9424-8f90f2e7a144",
   "metadata": {},
   "outputs": [],
   "source": []
  }
 ],
 "metadata": {
  "kernelspec": {
   "display_name": "Python 3 (ipykernel)",
   "language": "python",
   "name": "python3"
  },
  "language_info": {
   "codemirror_mode": {
    "name": "ipython",
    "version": 3
   },
   "file_extension": ".py",
   "mimetype": "text/x-python",
   "name": "python",
   "nbconvert_exporter": "python",
   "pygments_lexer": "ipython3",
   "version": "3.11.7"
  }
 },
 "nbformat": 4,
 "nbformat_minor": 5
}
