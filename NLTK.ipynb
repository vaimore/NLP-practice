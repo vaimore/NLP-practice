{
 "cells": [
  {
   "cell_type": "code",
   "execution_count": 1,
   "id": "bbce11ee-aae7-4d81-b631-2b326d4fe908",
   "metadata": {},
   "outputs": [
    {
     "name": "stderr",
     "output_type": "stream",
     "text": [
      "[nltk_data] Downloading package punkt to\n",
      "[nltk_data]     C:\\Users\\VAIBHAV\\AppData\\Roaming\\nltk_data...\n",
      "[nltk_data]   Package punkt is already up-to-date!\n"
     ]
    }
   ],
   "source": [
    "import nltk\n",
    "nltk.download('punkt')\n",
    "from nltk.tokenize import word_tokenize, sent_tokenize"
   ]
  },
  {
   "cell_type": "code",
   "execution_count": 7,
   "id": "ab188f17-8430-45f9-87c3-d0b9ed9d6753",
   "metadata": {},
   "outputs": [],
   "source": [
    "sentence = \"PyTorch Lightning Essential's: A practical guide to automated training with PyTorch Lightning by Erik Linder-Norén and William Falcon.\""
   ]
  },
  {
   "cell_type": "code",
   "execution_count": 8,
   "id": "682b55bf-907c-4efd-95b6-04003bb7d69b",
   "metadata": {},
   "outputs": [
    {
     "data": {
      "text/plain": [
       "[\"PyTorch Lightning Essential's: A practical guide to automated training with PyTorch Lightning by Erik Linder-Norén and William Falcon.\"]"
      ]
     },
     "execution_count": 8,
     "metadata": {},
     "output_type": "execute_result"
    }
   ],
   "source": [
    "sent_tokenize(sentence)"
   ]
  },
  {
   "cell_type": "code",
   "execution_count": 9,
   "id": "6664e7dd-a5e2-45b4-adb6-af1644014bcf",
   "metadata": {},
   "outputs": [
    {
     "data": {
      "text/plain": [
       "['PyTorch',\n",
       " 'Lightning',\n",
       " 'Essential',\n",
       " \"'s\",\n",
       " ':',\n",
       " 'A',\n",
       " 'practical',\n",
       " 'guide',\n",
       " 'to',\n",
       " 'automated',\n",
       " 'training',\n",
       " 'with',\n",
       " 'PyTorch',\n",
       " 'Lightning',\n",
       " 'by',\n",
       " 'Erik',\n",
       " 'Linder-Norén',\n",
       " 'and',\n",
       " 'William',\n",
       " 'Falcon',\n",
       " '.']"
      ]
     },
     "execution_count": 9,
     "metadata": {},
     "output_type": "execute_result"
    }
   ],
   "source": [
    "word_tokenize(sentence)"
   ]
  },
  {
   "cell_type": "markdown",
   "id": "8f4a3684-28ff-4dfe-b7da-856228593bed",
   "metadata": {},
   "source": [
    "## Stemming"
   ]
  },
  {
   "cell_type": "code",
   "execution_count": 11,
   "id": "66f345c7-c4f3-4351-bd15-13690c937d34",
   "metadata": {},
   "outputs": [],
   "source": [
    "from nltk.stem import PorterStemmer"
   ]
  },
  {
   "cell_type": "code",
   "execution_count": 12,
   "id": "9704ccfc-0e2d-489b-bb37-5b3196d8c234",
   "metadata": {},
   "outputs": [],
   "source": [
    "ps = PorterStemmer()"
   ]
  },
  {
   "cell_type": "code",
   "execution_count": 13,
   "id": "f16ee09a-a4dd-46d8-8170-8c9ea229f63c",
   "metadata": {},
   "outputs": [],
   "source": [
    "connect_tokens = [\"connecting\",\"connected\",\"connectivity\",\"connect\",\"connects\"]"
   ]
  },
  {
   "cell_type": "code",
   "execution_count": 14,
   "id": "11eb4a13-9584-4ed0-970d-3e8ef47dd3b2",
   "metadata": {},
   "outputs": [
    {
     "name": "stdout",
     "output_type": "stream",
     "text": [
      "connecting  :  connect\n",
      "connected  :  connect\n",
      "connectivity  :  connect\n",
      "connect  :  connect\n",
      "connects  :  connect\n"
     ]
    }
   ],
   "source": [
    "for t in connect_tokens:\n",
    "    print(t , \" : \", ps.stem(t))"
   ]
  },
  {
   "cell_type": "code",
   "execution_count": 17,
   "id": "5e8a261d-21c1-4515-8529-1d0e1f345fc2",
   "metadata": {},
   "outputs": [],
   "source": [
    "learn_tokens = ['learning','learned','learnt','learns','learner','learners']"
   ]
  },
  {
   "cell_type": "code",
   "execution_count": 18,
   "id": "fbd1f69d-fa60-471b-bbe5-b9e5ba2b590f",
   "metadata": {},
   "outputs": [
    {
     "name": "stdout",
     "output_type": "stream",
     "text": [
      "learning : learn\n",
      "learned : learn\n",
      "learnt : learnt\n",
      "learns : learn\n",
      "learner : learner\n",
      "learners : learner\n"
     ]
    }
   ],
   "source": [
    "for l in learn_tokens:\n",
    "    print(l , \":\", ps.stem(l))"
   ]
  },
  {
   "cell_type": "code",
   "execution_count": 21,
   "id": "0413b139-f469-4114-8207-b1f20b1062ac",
   "metadata": {},
   "outputs": [],
   "source": [
    "example = ['Learning','likes','Principles','networks']"
   ]
  },
  {
   "cell_type": "code",
   "execution_count": 22,
   "id": "502b9a28-6ca9-47f9-858e-06498fb0657b",
   "metadata": {},
   "outputs": [
    {
     "name": "stdout",
     "output_type": "stream",
     "text": [
      "Learning : learn\n",
      "likes : like\n",
      "Principles : principl\n",
      "networks : network\n"
     ]
    }
   ],
   "source": [
    "for e in example:\n",
    "    print(e , ':' , ps.stem(e))"
   ]
  },
  {
   "cell_type": "markdown",
   "id": "1f7c1ec6-4d41-47cd-be3c-7fbc48b53c83",
   "metadata": {},
   "source": [
    "## Lemmatization "
   ]
  },
  {
   "cell_type": "code",
   "execution_count": 25,
   "id": "c0966a9f-46e3-43fc-92b2-a72f2db0df57",
   "metadata": {},
   "outputs": [
    {
     "name": "stderr",
     "output_type": "stream",
     "text": [
      "[nltk_data] Downloading package wordnet to\n",
      "[nltk_data]     C:\\Users\\VAIBHAV\\AppData\\Roaming\\nltk_data...\n",
      "[nltk_data]   Package wordnet is already up-to-date!\n"
     ]
    }
   ],
   "source": [
    "nltk.download(\"wordnet\")\n",
    "from nltk.stem import WordNetLemmatizer"
   ]
  },
  {
   "cell_type": "code",
   "execution_count": 27,
   "id": "ba58d9cc-79a7-423a-b2f9-c542526fef86",
   "metadata": {},
   "outputs": [],
   "source": [
    "lemmatizer = WordNetLemmatizer()"
   ]
  },
  {
   "cell_type": "code",
   "execution_count": 28,
   "id": "e45e9aa4-b9bd-4bc9-9739-545f9006cbac",
   "metadata": {},
   "outputs": [
    {
     "name": "stdout",
     "output_type": "stream",
     "text": [
      "connecting : connecting\n",
      "connected : connected\n",
      "connectivity : connectivity\n",
      "connect : connect\n",
      "connects : connects\n"
     ]
    }
   ],
   "source": [
    "for t in connect_tokens:\n",
    "    print(t , \":\", lemmatizer.lemmatize(t))"
   ]
  },
  {
   "cell_type": "code",
   "execution_count": 29,
   "id": "236fce38-7b59-4a37-9356-d500732117a4",
   "metadata": {},
   "outputs": [
    {
     "name": "stdout",
     "output_type": "stream",
     "text": [
      "Learning : Learning\n",
      "likes : like\n",
      "Principles : Principles\n",
      "networks : network\n"
     ]
    }
   ],
   "source": [
    "for e in example:\n",
    "    print(e , \":\", lemmatizer.lemmatize(e))"
   ]
  },
  {
   "cell_type": "code",
   "execution_count": 30,
   "id": "44d28cc6-7db7-423c-b88c-5fb6ac6fced8",
   "metadata": {},
   "outputs": [],
   "source": [
    "sente = \"The sun, a luminous sphere of seething plasma, reigns as the radiant heart of our solar system, captivating all with its golden embrace. With unfathomable power, it bestows light and warmth upon the planets, painting the cosmos with its fiery hues at dawn and dusk. Its magnetic dance orchestrates the cosmic ballet, guiding planets in their celestial orbits while igniting the imagination of humanity with its eternal brilliance. As a symbol of vitality and life, the sun stands as a beacon of hope and inspiration, reminding us of the boundless energy and potential that pervades the universe.\""
   ]
  },
  {
   "cell_type": "code",
   "execution_count": 32,
   "id": "0dbcc925-76df-44b6-9d5d-f3ad406894c1",
   "metadata": {},
   "outputs": [
    {
     "data": {
      "text/plain": [
       "'The sun, a luminous sphere of seething plasma, reigns as the radiant heart of our solar system, captivating all with its golden embrace. With unfathomable power, it bestows light and warmth upon the planets, painting the cosmos with its fiery hues at dawn and dusk. Its magnetic dance orchestrates the cosmic ballet, guiding planets in their celestial orbits while igniting the imagination of humanity with its eternal brilliance. As a symbol of vitality and life, the sun stands as a beacon of hope and inspiration, reminding us of the boundless energy and potential that pervades the universe.'"
      ]
     },
     "execution_count": 32,
     "metadata": {},
     "output_type": "execute_result"
    }
   ],
   "source": [
    "sente"
   ]
  },
  {
   "cell_type": "code",
   "execution_count": 34,
   "id": "901b1ebb-27ae-4331-b367-8515b663db25",
   "metadata": {},
   "outputs": [
    {
     "data": {
      "text/plain": [
       "['The',\n",
       " 'sun',\n",
       " ',',\n",
       " 'a',\n",
       " 'luminous',\n",
       " 'sphere',\n",
       " 'of',\n",
       " 'seething',\n",
       " 'plasma',\n",
       " ',',\n",
       " 'reigns',\n",
       " 'as',\n",
       " 'the',\n",
       " 'radiant',\n",
       " 'heart',\n",
       " 'of',\n",
       " 'our',\n",
       " 'solar',\n",
       " 'system',\n",
       " ',',\n",
       " 'captivating',\n",
       " 'all',\n",
       " 'with',\n",
       " 'its',\n",
       " 'golden',\n",
       " 'embrace',\n",
       " '.',\n",
       " 'With',\n",
       " 'unfathomable',\n",
       " 'power',\n",
       " ',',\n",
       " 'it',\n",
       " 'bestows',\n",
       " 'light',\n",
       " 'and',\n",
       " 'warmth',\n",
       " 'upon',\n",
       " 'the',\n",
       " 'planets',\n",
       " ',',\n",
       " 'painting',\n",
       " 'the',\n",
       " 'cosmos',\n",
       " 'with',\n",
       " 'its',\n",
       " 'fiery',\n",
       " 'hues',\n",
       " 'at',\n",
       " 'dawn',\n",
       " 'and',\n",
       " 'dusk',\n",
       " '.',\n",
       " 'Its',\n",
       " 'magnetic',\n",
       " 'dance',\n",
       " 'orchestrates',\n",
       " 'the',\n",
       " 'cosmic',\n",
       " 'ballet',\n",
       " ',',\n",
       " 'guiding',\n",
       " 'planets',\n",
       " 'in',\n",
       " 'their',\n",
       " 'celestial',\n",
       " 'orbits',\n",
       " 'while',\n",
       " 'igniting',\n",
       " 'the',\n",
       " 'imagination',\n",
       " 'of',\n",
       " 'humanity',\n",
       " 'with',\n",
       " 'its',\n",
       " 'eternal',\n",
       " 'brilliance',\n",
       " '.',\n",
       " 'As',\n",
       " 'a',\n",
       " 'symbol',\n",
       " 'of',\n",
       " 'vitality',\n",
       " 'and',\n",
       " 'life',\n",
       " ',',\n",
       " 'the',\n",
       " 'sun',\n",
       " 'stands',\n",
       " 'as',\n",
       " 'a',\n",
       " 'beacon',\n",
       " 'of',\n",
       " 'hope',\n",
       " 'and',\n",
       " 'inspiration',\n",
       " ',',\n",
       " 'reminding',\n",
       " 'us',\n",
       " 'of',\n",
       " 'the',\n",
       " 'boundless',\n",
       " 'energy',\n",
       " 'and',\n",
       " 'potential',\n",
       " 'that',\n",
       " 'pervades',\n",
       " 'the',\n",
       " 'universe',\n",
       " '.']"
      ]
     },
     "execution_count": 34,
     "metadata": {},
     "output_type": "execute_result"
    }
   ],
   "source": [
    "tokens = word_tokenize(sente)\n",
    "tokens"
   ]
  },
  {
   "cell_type": "code",
   "execution_count": 35,
   "id": "016ec50c-d52e-4366-8eee-8598b6dd2839",
   "metadata": {},
   "outputs": [],
   "source": [
    "import pandas as pd\n",
    "import matplotlib.pyplot as plt"
   ]
  },
  {
   "cell_type": "code",
   "execution_count": 36,
   "id": "d847bb2b-d1ea-47d7-bf35-94d1bab15603",
   "metadata": {},
   "outputs": [
    {
     "name": "stdout",
     "output_type": "stream",
     "text": [
      "['The', 'sun', ',', 'a', 'luminous', 'sphere', 'of', 'seething', 'plasma', ',', 'reigns', 'as', 'the', 'radiant', 'heart', 'of', 'our', 'solar', 'system', ',', 'captivating', 'all', 'with', 'its', 'golden', 'embrace', '.', 'With', 'unfathomable', 'power', ',', 'it', 'bestows', 'light', 'and', 'warmth', 'upon', 'the', 'planets', ',', 'painting', 'the', 'cosmos', 'with', 'its', 'fiery', 'hues', 'at', 'dawn', 'and', 'dusk', '.', 'Its', 'magnetic', 'dance', 'orchestrates', 'the', 'cosmic', 'ballet', ',', 'guiding', 'planets', 'in', 'their', 'celestial', 'orbits', 'while', 'igniting', 'the', 'imagination', 'of', 'humanity', 'with', 'its', 'eternal', 'brilliance', '.', 'As', 'a', 'symbol', 'of', 'vitality', 'and', 'life', ',', 'the', 'sun', 'stands', 'as', 'a', 'beacon', 'of', 'hope', 'and', 'inspiration', ',', 'reminding', 'us', 'of', 'the', 'boundless', 'energy', 'and', 'potential', 'that', 'pervades', 'the', 'universe', '.']\n"
     ]
    }
   ],
   "source": [
    "print(tokens)"
   ]
  },
  {
   "cell_type": "code",
   "execution_count": 37,
   "id": "8443bfaa-176b-4641-a641-e9029e11a1bb",
   "metadata": {},
   "outputs": [
    {
     "data": {
      "text/plain": [
       "(,,)           8\n",
       "(the,)         8\n",
       "(of,)          6\n",
       "(and,)         5\n",
       "(.,)           4\n",
       "              ..\n",
       "(fiery,)       1\n",
       "(at,)          1\n",
       "(dawn,)        1\n",
       "(dusk,)        1\n",
       "(universe,)    1\n",
       "Length: 74, dtype: int64"
      ]
     },
     "execution_count": 37,
     "metadata": {},
     "output_type": "execute_result"
    }
   ],
   "source": [
    "unigram = (pd.Series(nltk.ngrams(tokens, 1)).value_counts())\n",
    "unigram"
   ]
  },
  {
   "cell_type": "code",
   "execution_count": 38,
   "id": "ef158d1f-5a85-42a6-aeee-a97b85161052",
   "metadata": {},
   "outputs": [
    {
     "name": "stdout",
     "output_type": "stream",
     "text": [
      "(,,)       8\n",
      "(the,)     8\n",
      "(of,)      6\n",
      "(and,)     5\n",
      "(.,)       4\n",
      "(a,)       3\n",
      "(its,)     3\n",
      "(with,)    3\n",
      "(sun,)     2\n",
      "(as,)      2\n",
      "dtype: int64\n"
     ]
    }
   ],
   "source": [
    "print(unigram[:10])"
   ]
  },
  {
   "cell_type": "code",
   "execution_count": 43,
   "id": "f980af40-4b3b-4208-9105-8cea1db12cef",
   "metadata": {},
   "outputs": [
    {
     "data": {
      "text/plain": [
       "Text(0.5, 1.0, '10 most frequently occuring unigrams')"
      ]
     },
     "execution_count": 43,
     "metadata": {},
     "output_type": "execute_result"
    },
    {
     "data": {
      "image/png": "[encoded data removed]",
      "text/plain": [
       "<Figure size 1000x500 with 1 Axes>"
      ]
     },
     "metadata": {},
     "output_type": "display_data"
    }
   ],
   "source": [
    "unigram[:10].sort_values().plot.barh(color = 'lightsalmon', width = .9, figsize=(10,5))\n",
    "plt.title(\"10 most frequently occuring unigrams\")"
   ]
  },
  {
   "cell_type": "code",
   "execution_count": 44,
   "id": "bef0e2eb-b254-4d92-b4f3-a29bd4abe7e7",
   "metadata": {},
   "outputs": [
    {
     "data": {
      "text/plain": [
       "(with, its)          3\n",
       "(The, sun)           1\n",
       "(imagination, of)    1\n",
       "(of, vitality)       1\n",
       "(symbol, of)         1\n",
       "                    ..\n",
       "(light, and)         1\n",
       "(bestows, light)     1\n",
       "(it, bestows)        1\n",
       "(,, it)              1\n",
       "(universe, .)        1\n",
       "Length: 106, dtype: int64"
      ]
     },
     "execution_count": 44,
     "metadata": {},
     "output_type": "execute_result"
    }
   ],
   "source": [
    "bigram = (pd.Series(nltk.ngrams(tokens, 2)).value_counts())\n",
    "bigram"
   ]
  },
  {
   "cell_type": "code",
   "execution_count": 45,
   "id": "4a914c9a-6244-47a1-b1cd-a48459fd3563",
   "metadata": {},
   "outputs": [
    {
     "data": {
      "text/plain": [
       "Text(0.5, 1.0, '10 most frequently occuring unigrams')"
      ]
     },
     "execution_count": 45,
     "metadata": {},
     "output_type": "execute_result"
    },
    {
     "data": {
      "image/png": "[encoded data removed]",
      "text/plain": [
       "<Figure size 1000x500 with 1 Axes>"
      ]
     },
     "metadata": {},
     "output_type": "display_data"
    }
   ],
   "source": [
    "bigram[:10].sort_values().plot.barh(color = 'lightsalmon', width = .9, figsize=(10,5))\n",
    "plt.title(\"10 most frequently occuring unigrams\")"
   ]
  },
  {
   "cell_type": "code",
   "execution_count": 47,
   "id": "28268857-fe50-44e3-a623-8cbaaddfab40",
   "metadata": {},
   "outputs": [
    {
     "data": {
      "text/plain": [
       "(The, sun, ,)            1\n",
       "(of, vitality, and)      1\n",
       "(a, symbol, of)          1\n",
       "(As, a, symbol)          1\n",
       "(., As, a)               1\n",
       "                        ..\n",
       "(bestows, light, and)    1\n",
       "(it, bestows, light)     1\n",
       "(,, it, bestows)         1\n",
       "(power, ,, it)           1\n",
       "(the, universe, .)       1\n",
       "Length: 107, dtype: int64"
      ]
     },
     "execution_count": 47,
     "metadata": {},
     "output_type": "execute_result"
    }
   ],
   "source": [
    "trigram = (pd.Series(nltk.ngrams(tokens, 3)).value_counts())\n",
    "trigram"
   ]
  },
  {
   "cell_type": "code",
   "execution_count": null,
   "id": "ac8f6d20-e129-485d-859b-f686790f05e3",
   "metadata": {},
   "outputs": [],
   "source": []
  }
 ],
 "metadata": {
  "kernelspec": {
   "display_name": "Python 3 (ipykernel)",
   "language": "python",
   "name": "python3"
  },
  "language_info": {
   "codemirror_mode": {
    "name": "ipython",
    "version": 3
   },
   "file_extension": ".py",
   "mimetype": "text/x-python",
   "name": "python",
   "nbconvert_exporter": "python",
   "pygments_lexer": "ipython3",
   "version": "3.11.7"
  }
 },
 "nbformat": 4,
 "nbformat_minor": 5
}
